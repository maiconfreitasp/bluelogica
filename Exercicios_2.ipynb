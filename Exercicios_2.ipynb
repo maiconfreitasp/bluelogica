{
  "nbformat": 4,
  "nbformat_minor": 0,
  "metadata": {
    "colab": {
      "name": "Exercicios_2.ipynb",
      "provenance": [],
      "collapsed_sections": [],
      "authorship_tag": "ABX9TyMGa3m+IZfM3A/rrEMCTj/8",
      "include_colab_link": true
    },
    "kernelspec": {
      "name": "python3",
      "display_name": "Python 3"
    },
    "language_info": {
      "name": "python"
    }
  },
  "cells": [
    {
      "cell_type": "markdown",
      "metadata": {
        "id": "view-in-github",
        "colab_type": "text"
      },
      "source": [
        "<a href=\"https://colab.research.google.com/github/maiconfreitasp/bluelogica/blob/main/Exercicios_2.ipynb\" target=\"_parent\"><img src=\"https://colab.research.google.com/assets/colab-badge.svg\" alt=\"Open In Colab\"/></a>"
      ]
    },
    {
      "cell_type": "code",
      "metadata": {
        "colab": {
          "base_uri": "https://localhost:8080/"
        },
        "id": "dR-yfpF5EmEV",
        "outputId": "4256458f-1d49-4894-b12e-c1dea025e877"
      },
      "source": [
        "nota = float(input(\"Digite uma nota:\"))\n",
        "if nota >= 7:\n",
        "  print(f'O aluno foi aprovado com {nota}')\n",
        "elif nota >=5 and nota <7:\n",
        "  print(f'O aluno está em recuperação com {nota}')\n",
        "else:\n",
        "  print(f'O aluno está reprovado com {nota}')"
      ],
      "execution_count": 3,
      "outputs": [
        {
          "output_type": "stream",
          "text": [
            "Digite uma nota:3\n",
            "O aluno está reprovado com 3.0\n"
          ],
          "name": "stdout"
        }
      ]
    },
    {
      "cell_type": "markdown",
      "metadata": {
        "id": "YlIEMpJXziNa"
      },
      "source": [
        "Exercício 1: \"Faça um Programa que leia três números inteiros, em seguida mostre o maior e o menor deles.\"\n"
      ]
    },
    {
      "cell_type": "code",
      "metadata": {
        "colab": {
          "base_uri": "https://localhost:8080/"
        },
        "id": "EC2GuBE4JeuE",
        "outputId": "c2bf0ccc-b884-4535-aa82-d1f64197e6e5"
      },
      "source": [
        "primeiro = int(input(\"Primeiro número:\"))\n",
        "segundo = int(input(\"Segundo número:\"))\n",
        "terceiro = int(input(\"Terceiro número:\"))\n",
        "\n",
        "# Achando o maior número\n",
        "maior = primeiro\n",
        "\n",
        "if (segundo > maior):\n",
        "  maior = segundo\n",
        "  if (terceiro > maior):\n",
        "    maior = terceiro\n",
        "    print('Maior: ',maior)\n",
        "\n",
        "    # Achando o menor número\n",
        "    menor = primeiro\n",
        "\n",
        "    if (segundo < menor):\n",
        "        menor = segundo\n",
        "    if (terceiro < menor):\n",
        "        menor = terceiro\n",
        "\n",
        "    print('Menor: ',menor)"
      ],
      "execution_count": 2,
      "outputs": [
        {
          "output_type": "stream",
          "text": [
            "Primeiro número:1\n",
            "Segundo número:2\n",
            "Terceiro número:3\n",
            "Maior:  3\n",
            "Menor:  1\n"
          ],
          "name": "stdout"
        }
      ]
    },
    {
      "cell_type": "markdown",
      "metadata": {
        "id": "MsNF2GYH32Er"
      },
      "source": [
        "Exercício 2 - Faça um programa que peça dois números e imprima o maior deles."
      ]
    },
    {
      "cell_type": "code",
      "metadata": {
        "colab": {
          "base_uri": "https://localhost:8080/"
        },
        "id": "ZyQPag5R37Db",
        "outputId": "075442ee-f2f6-4463-f934-5bd4465df836"
      },
      "source": [
        "n1 = (input('Digite o primeiro número: '))\n",
        "n2 = (input('Digite o segundo número: '))\n",
        "\n",
        "maior = 'n1'\n",
        "\n",
        "if maior < 'n2':\n",
        "  maior = 'n2'\n",
        "  print('Esse é maior número entre os dois digitados: ', n2)\n",
        "else:\n",
        "   print('Esse é maior número entre os dois digitados: ', n1)"
      ],
      "execution_count": 31,
      "outputs": [
        {
          "output_type": "stream",
          "text": [
            "Digite o primeiro número: 60\n",
            "Digite o segundo número: 50\n",
            "Esse é maior número entre os dois digitados:  50\n"
          ],
          "name": "stdout"
        }
      ]
    },
    {
      "cell_type": "markdown",
      "metadata": {
        "id": "4rEWGh6N1Mrj"
      },
      "source": [
        "Exercício 3 - Faça um script que peça um valor e mostre na tela se o valor é positivo ou negativo."
      ]
    },
    {
      "cell_type": "code",
      "metadata": {
        "colab": {
          "base_uri": "https://localhost:8080/"
        },
        "id": "w-5ild0Z1Q-j",
        "outputId": "43002e84-d491-4cfe-9793-e6808256258f"
      },
      "source": [
        "valor = float(input('Digite um valor: '))\n",
        "\n",
        "if valor < 0:\n",
        "  print('Esse número é negativo')\n",
        "elif valor > 0:\n",
        "  print('Esse número é positivo')\n",
        "else:\n",
        "  print('Esse número é neutro')"
      ],
      "execution_count": 6,
      "outputs": [
        {
          "output_type": "stream",
          "text": [
            "Digite um valor: 0\n",
            "Esse número é neutro\n"
          ],
          "name": "stdout"
        }
      ]
    },
    {
      "cell_type": "markdown",
      "metadata": {
        "id": "PXGfx3XQzoH1"
      },
      "source": [
        "Exercício 4 - Crie um programa que verifique se uma letra digitada é \"F\" ou \"M\". Conforme a letra escrever: F - Feminino, M - Masculino, Sexo Inválido.\n"
      ]
    },
    {
      "cell_type": "code",
      "metadata": {
        "colab": {
          "base_uri": "https://localhost:8080/"
        },
        "id": "HkfB5uAcZ4xU",
        "outputId": "e6f236eb-2992-48dd-eaf4-85e84ce57e40"
      },
      "source": [
        "sexo = input(\"Digite seu sexo com F ou M:\")\n",
        "\n",
        "if sexo == 'F':\n",
        "  print(\"feminino\")\n",
        "elif sexo == 'M':\n",
        "  print(\"masculino\")\n",
        "else:\n",
        "  print(\"Outros\")"
      ],
      "execution_count": 16,
      "outputs": [
        {
          "output_type": "stream",
          "text": [
            "Digite seu sexo com F ou M:indefinido\n",
            "Outros\n"
          ],
          "name": "stdout"
        }
      ]
    },
    {
      "cell_type": "markdown",
      "metadata": {
        "id": "JfMc8C1c0wQJ"
      },
      "source": [
        "Exercício 5 - Crie um programa em Python que peça a nota do aluno, que deve ser um float entre 0.00 e 10.0\n",
        "•\tSe a nota for menor que 6.0, deve exibir a nota F.\n",
        "•\tSe a nota for de 6.0 até 7.0, deve exibir a nota D.\n",
        "•\tSe a nota for entre 7.0 e 8.0, deve exibir a nota C.\n",
        "•\tSe a nota for entre 8.0 e 9.0, deve exibir a nota B.\n",
        "•\tPor fim, se for entre 9.0 e 10.0, deve exibir um belo de um A.\n"
      ]
    },
    {
      "cell_type": "code",
      "metadata": {
        "colab": {
          "base_uri": "https://localhost:8080/"
        },
        "id": "AxOzl4otdi6Y",
        "outputId": "4b89f50a-0eee-4b80-cc68-55d6ef7a22c3"
      },
      "source": [
        "nota = float(input(\"Digite sua nota entre 0 e 10:\"))\n",
        "\n",
        "\n",
        "if nota < 6:\n",
        "  print(\"nota F\")\n",
        "elif nota >= 6 and nota <= 6.9:\n",
        "  print(\"nota D\")\n",
        "elif nota >= 7 and nota <= 7.9:\n",
        "  print(\"nota C\")\n",
        "elif nota >= 8 and nota <= 8.9:\n",
        "  print(\"nota B\")\n",
        "else:\n",
        "  print(\"nota A\")\n"
      ],
      "execution_count": 9,
      "outputs": [
        {
          "output_type": "stream",
          "text": [
            "Digite sua nota entre 0 e 10:5.9\n",
            "nota F\n"
          ],
          "name": "stdout"
        }
      ]
    },
    {
      "cell_type": "markdown",
      "metadata": {
        "id": "7zP9xj2b19Ec"
      },
      "source": [
        "Exercício 6 - Faça um Programa que verifique se uma letra digitada é vogal ou consoante."
      ]
    },
    {
      "cell_type": "code",
      "metadata": {
        "colab": {
          "base_uri": "https://localhost:8080/"
        },
        "id": "RLb9FsDDHn6y",
        "outputId": "51f4523f-bfcb-4f6a-daca-96eca142dcc2"
      },
      "source": [
        "letra = input(\"Digite uma letra:\")\n",
        "print(letra)\n",
        "\n",
        "if letra == 'a' or letra == 'e' or letra == 'i' or letra == 'o' or letra == 'u':\n",
        "  print(\"Essa letra é uma vogal\")\n",
        "else:\n",
        "  print(\"Essa letra é uma consoante\")\n"
      ],
      "execution_count": 15,
      "outputs": [
        {
          "output_type": "stream",
          "text": [
            "Digite uma letra:j\n",
            "j\n",
            "Essa letra é uma consoante\n"
          ],
          "name": "stdout"
        }
      ]
    },
    {
      "cell_type": "markdown",
      "metadata": {
        "id": "L5nU0OTa228C"
      },
      "source": [
        "PROJETO 1\n",
        "Resultado da primeira/segunda aula em Python:\n",
        "•\tEscreva um programa que receba uma string digitada pelo usuário;\n",
        "•\tCaso a string seja \"medieval\", exiba no console \"espada\";\n",
        "•\tCaso contrário, se a string for \"futurista\", exiba no console \"sabre de luz\";\n",
        "•\tCaso contrário, exiba no console \"Tente novamente\"\n",
        "\n",
        "•\tEscreva um programa que receba um ataque de espada ou sabre digitada pelo usuário;\n",
        "•\tCaso o ataque seja \"espada\", exiba no console \"VOCÊ AINDA NÃO MATOU O CHEFÃO\";\n",
        "•\tCaso contrário, se o ataque for \"sabre\", exiba no console \"VOCÊ DERROTOU O CHEFÃO COM O SABRE DE LUZ\";\n",
        "•\tCaso contrário, exiba no console \"ATAQUE NOVAMENTE\"\n",
        "\n"
      ]
    },
    {
      "cell_type": "code",
      "metadata": {
        "colab": {
          "base_uri": "https://localhost:8080/"
        },
        "id": "Ts5sNQwjkE3i",
        "outputId": "946f20bb-e432-4d5e-97c2-210fb4b93822"
      },
      "source": [
        "epoca = input(\"Digite a época desejada:\")\n",
        "print(epoca)\n",
        "\n",
        "if epoca == 'medieval': \n",
        "  print(\"Excelente escolha!\")\n",
        "  print(\"Sua arma será: espada\")\n",
        "elif epoca == 'futurista':\n",
        "  print(\"Excelente escolha!\")\n",
        "  print(\"Sua arma será: sabre de luz\")\n",
        "else:\n",
        "  print(\"Por favor, tente novamente.\")\n",
        "\n",
        "ataque = input(\"Ataque digitando sua arma:\")\n",
        "print(ataque)\n",
        "\n",
        "if ataque == 'espada':\n",
        "  print(\"VOCÊ AINDA NÃO MATOU O CHEFÃO\")\n",
        "elif ataque == 'sabre de luz':\n",
        "  print(\"VOCÊ DERROTOU O CHEFÃO COM O SABRE DE LUZ\")\n",
        "else:\n",
        "  print(\"ATAQUE NOVAMENTE\")\n"
      ],
      "execution_count": 12,
      "outputs": [
        {
          "output_type": "stream",
          "text": [
            "Digite a época desejada:futurista\n",
            "futurista\n",
            "Excelente escolha!\n",
            "Sua arma será: sabre de luz\n",
            "Ataque digitando sua arma:outro\n",
            "outro\n",
            "ATAQUE NOVAMENTE\n"
          ],
          "name": "stdout"
        }
      ]
    },
    {
      "cell_type": "markdown",
      "metadata": {
        "id": "HgGrZ6UE3DeZ"
      },
      "source": [
        "DESAFIO - As empresas @.com resolveram dar um aumento de salário aos seus colaboradores e lhe contrataram para desenvolver o programa que calculará os reajustes.\n",
        "\n",
        "Faça um programa que recebe o salário de um colaborador e o reajuste segundo o seguinte critério, baseado no salário atual:\n",
        "•\tsalários até R$ 280,00 (incluindo) : aumento de 20%\n",
        "•\tsalários entre R$ 280,00 e R$ 700,00 : aumento de 15%\n",
        "•\tsalários entre R$ 700,00 e R$ 1500,00 : aumento de 10%\n",
        "•\tsalários de R$ 1500,00 em diante : aumento de 5%\n",
        "Após o aumento ser realizado, informe na tela:\n",
        "•\to salário antes do reajuste;\n",
        "•\to percentual de aumento aplicado;\n",
        "•\to valor do aumento;\n",
        "•\to novo salário, após o aumento.\"\n"
      ]
    },
    {
      "cell_type": "code",
      "metadata": {
        "colab": {
          "base_uri": "https://localhost:8080/"
        },
        "id": "nzGGBG3M14Qr",
        "outputId": "86b91f1d-e54e-4069-dc6d-344802ee653c"
      },
      "source": [
        "salario = float(input(\"Digite o seu salário:\"))\n",
        "print(salario)\n",
        "\n",
        "if salario <= 280:\n",
        "  porcentagem = 0.2 * salario\n",
        "  reajuste = salario + porcentagem\n",
        "  print(\"o salário antes do reajuste: R$\", salario)\n",
        "  print(\"o percentual de aumento aplicado: 20%\" )\n",
        "  print(\"o valor do aumento: R$\", porcentagem)\n",
        "  print(\"o novo salário, após o aumento: R$\", reajuste)\n",
        "\n",
        "elif salario >= 280 and salario <= 700:\n",
        "  porcentagem = 0.15 * salario\n",
        "  reajuste = salario + porcentagem\n",
        "  print(\"o salário antes do reajuste: R$\", salario)\n",
        "  print(\"o percentual de aumento aplicado: 15%\" )\n",
        "  print(\"o valor do aumento: R$\", porcentagem)\n",
        "  print(\"o novo salário, após o aumento: R$\", reajuste)\n",
        "\n",
        "elif salario >= 700 and salario <= 1500:\n",
        "  porcentagem = 0.1 * salario\n",
        "  reajuste = salario + porcentagem\n",
        "  print(\"o salário antes do reajuste: R$\", salario)\n",
        "  print(\"o percentual de aumento aplicado: 10%\" )\n",
        "  print(\"o valor do aumento: R$\", porcentagem)\n",
        "  print(\"o novo salário, após o aumento: R$\", reajuste)\n",
        "\n",
        "else:\n",
        "  porcentagem = 0.05 * salario\n",
        "  reajuste = salario + porcentagem\n",
        "  print(\"o salário antes do reajuste: R$\", salario)\n",
        "  print(\"o percentual de aumento aplicado: 5%\" )\n",
        "  print(\"o valor do aumento: R$\", porcentagem)\n",
        "  print(\"o novo salário, após o aumento: R$\", reajuste)\n",
        "\n"
      ],
      "execution_count": 26,
      "outputs": [
        {
          "output_type": "stream",
          "text": [
            "Digite o seu salário:150\n",
            "150.0\n",
            "o salário antes do reajuste: R$ 150.0\n",
            "o percentual de aumento aplicado: 20%\n",
            "o valor do aumento: R$ 30.0\n",
            "o novo salário, após o aumento: R$ 180.0\n"
          ],
          "name": "stdout"
        }
      ]
    },
    {
      "cell_type": "markdown",
      "metadata": {
        "id": "W7ZBd6jL3PdY"
      },
      "source": [
        "DESAFIO\n",
        "Faça um Programa para um caixa eletrônico. O programa deverá perguntar ao usuário a valor do saque e depois informar quantas notas de cada valor serão fornecidas. As notas disponíveis serão as de 1, 5, 10, 50 e 100 reais. O valor mínimo é de 10 reais e o máximo de 600 reais. O programa não deve se preocupar com a quantidade de notas existentes na máquina.\n",
        "•\tExemplo 1: Para sacar a quantia de 256 reais, o programa fornece duas notas de 100, uma nota de 50, uma nota de 5 e uma nota de 1;\n",
        "•\tExemplo 2: Para sacar a quantia de 399 reais, o programa fornece três notas de 100, uma nota de 50, quatro notas de 10, uma nota de 5 e quatro notas de 1.\n"
      ]
    },
    {
      "cell_type": "code",
      "metadata": {
        "colab": {
          "base_uri": "https://localhost:8080/"
        },
        "id": "2ZMHCfgsTJlM",
        "outputId": "7f1342d4-86ec-4533-ba6e-8553d236951f"
      },
      "source": [
        "valor = float(input(\"Digite o valor que deseja sacar:\"))\n",
        "\n",
        "if valor >= 10 and valor <= 600:\n",
        " cem = int(valor / 100)\n",
        " valor = valor - (cem*100)\n",
        "\n",
        " cinquenta = int(valor / 50)\n",
        " valor = valor - (cinquenta*50)\n",
        "\n",
        " vinte = int(valor / 20)\n",
        " valor = valor - (vinte*20)\n",
        "\n",
        " dez = int(valor / 10)\n",
        " valor = valor - (dez*10)\n",
        "\n",
        " cinco = int(valor / 5)\n",
        " valor = valor - (cinco*5)\n",
        "\n",
        " um = int(valor / 1)\n",
        " valor = valor - (um*1)\n",
        "\n",
        " print(\"você vai receber\", cem, \"notas de R$100\")\n",
        " print(\"você vai receber\", cinquenta, \"notas de R$50\")\n",
        " print(\"você vai receber\", vinte, \"notas de R$20\")\n",
        " print(\"você vai receber\", dez, \"notas de R$10\")\n",
        " print(\"você vai receber\", cinco, \"notas de R$5\")\n",
        " print(\"você vai receber\", um, \"notas de R$1\")\n",
        "else:\n",
        "  print(\"número invalido\")\n"
      ],
      "execution_count": 10,
      "outputs": [
        {
          "output_type": "stream",
          "text": [
            "Digite o valor que deseja sacar:9\n",
            "número invalido\n"
          ],
          "name": "stdout"
        }
      ]
    }
  ]
}