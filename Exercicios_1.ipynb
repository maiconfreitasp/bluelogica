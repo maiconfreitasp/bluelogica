{
  "nbformat": 4,
  "nbformat_minor": 0,
  "metadata": {
    "colab": {
      "name": "Exercicios_1.ipynb",
      "provenance": [],
      "collapsed_sections": [],
      "authorship_tag": "ABX9TyNbIZ/HqKX9O/Jlh5OCfxHV",
      "include_colab_link": true
    },
    "kernelspec": {
      "name": "python3",
      "display_name": "Python 3"
    },
    "language_info": {
      "name": "python"
    }
  },
  "cells": [
    {
      "cell_type": "markdown",
      "metadata": {
        "id": "view-in-github",
        "colab_type": "text"
      },
      "source": [
        "<a href=\"https://colab.research.google.com/github/maiconfreitasp/bluelogica/blob/main/Exercicios_1.ipynb\" target=\"_parent\"><img src=\"https://colab.research.google.com/assets/colab-badge.svg\" alt=\"Open In Colab\"/></a>"
      ]
    },
    {
      "cell_type": "markdown",
      "metadata": {
        "id": "gYh_WM8YKARI"
      },
      "source": [
        "# Resolução exercício 1"
      ]
    },
    {
      "cell_type": "code",
      "metadata": {
        "colab": {
          "base_uri": "https://localhost:8080/"
        },
        "id": "3c8TqLpWJw5g",
        "outputId": "212cc7f2-b408-4760-8ab5-4227a1cdcd6a"
      },
      "source": [
        "valor_refeicao = 42.54 # float\n",
        "valor_taxa = 10 # int\n",
        "resultado = valor_refeicao + valor_refeicao * (valor_taxa / 100) # float\n",
        "print(f'R$ {resultado:.2f}')"
      ],
      "execution_count": 4,
      "outputs": [
        {
          "output_type": "stream",
          "text": [
            "R$ 46.79\n"
          ],
          "name": "stdout"
        }
      ]
    },
    {
      "cell_type": "markdown",
      "metadata": {
        "id": "lTf9yjqDO1S7"
      },
      "source": [
        "# Resolução exercício 2"
      ]
    },
    {
      "cell_type": "code",
      "metadata": {
        "colab": {
          "base_uri": "https://localhost:8080/"
        },
        "id": "QOvvM8fCLK9Z",
        "outputId": "6320d1a8-78b8-4133-d02a-c3acb1f3fa64"
      },
      "source": [
        "valor_total = 100.98 # float\n",
        "valor_pago = 150.00 # float\n",
        "\n",
        "resultado = valor_pago - valor_total # float\n",
        "print(f'R$ {resultado:.2f}')"
      ],
      "execution_count": 6,
      "outputs": [
        {
          "output_type": "stream",
          "text": [
            "R$ 49.02\n"
          ],
          "name": "stdout"
        }
      ]
    },
    {
      "cell_type": "markdown",
      "metadata": {
        "id": "GexAH0OjRCsd"
      },
      "source": [
        "# Resolução exercício 3"
      ]
    },
    {
      "cell_type": "code",
      "metadata": {
        "colab": {
          "base_uri": "https://localhost:8080/"
        },
        "id": "4hWJiAFKP0Iz",
        "outputId": "1f73d18c-b978-45ba-b9c7-166b42e274bd"
      },
      "source": [
        "ano_nascimento = 1993\n",
        "ano_atual = 2021\n",
        "idade = ano_atual - ano_nascimento\n",
        "\n",
        "print(\"Sua idade é:\", idade)\n",
        "print(\"Você está na flor da idade!\")"
      ],
      "execution_count": 7,
      "outputs": [
        {
          "output_type": "stream",
          "text": [
            "Sua idade é: 28\n",
            "Você está na flor da idade!\n"
          ],
          "name": "stdout"
        }
      ]
    },
    {
      "cell_type": "markdown",
      "metadata": {
        "id": "JghQ2SvhQ8_Q"
      },
      "source": [
        "# Resolução exercício 4"
      ]
    },
    {
      "cell_type": "code",
      "metadata": {
        "colab": {
          "base_uri": "https://localhost:8080/"
        },
        "id": "EBm6gr3kQm-W",
        "outputId": "cc8a6ffc-970b-442b-8f52-9ddbaa110afd"
      },
      "source": [
        "print(\"O primeiro programa a gente nunca esquece!\")"
      ],
      "execution_count": 8,
      "outputs": [
        {
          "output_type": "stream",
          "text": [
            "O primeiro programa a gente nunca esquece!\n"
          ],
          "name": "stdout"
        }
      ]
    },
    {
      "cell_type": "code",
      "metadata": {
        "colab": {
          "base_uri": "https://localhost:8080/"
        },
        "id": "J7NeJT61Sl8V",
        "outputId": "8a0f6e8c-3183-4115-f51c-cc82c7072439"
      },
      "source": [
        "print(\"Nome: Maicon Freitas Prazeres\")\n",
        "print(\"Endereço: Rua Castro Alves - Niterói\")\n",
        "print(\"CEP:\", \"24141-015\", \"Telefone:\", \"(21)98189-2134\")"
      ],
      "execution_count": 21,
      "outputs": [
        {
          "output_type": "stream",
          "text": [
            "Nome: Maicon Freitas Prazeres\n",
            "Endereço: Rua Castro Alves - Niterói\n",
            "CEP: 24141-015 Telefone: (21)98189-2134\n"
          ],
          "name": "stdout"
        }
      ]
    },
    {
      "cell_type": "code",
      "metadata": {
        "colab": {
          "base_uri": "https://localhost:8080/"
        },
        "id": "natS62iuS-ke",
        "outputId": "0727f586-e28f-4368-de2e-28fe7820d490"
      },
      "source": [
        "print(\"Ainda bem que te encontrei,\")\n",
        "print()\n",
        "print(\"agora sou mais feliz\")\n",
        "print()\n",
        "print(\"igual não tem, me trata bem\")\n",
        "print()\n",
        "print(\"do jeito que eu sempre quis\")\n",
        "print()\n",
        "print(\"Lembro, te olhei, me apaixonei, esqueci o que eu vivi\")\n",
        "print()\n",
        "print(\"Me dediquei, tanto lutei pra te ter perto de mim\")\n",
        "print()\n",
        "print(\"Ainda bem, ainda bem.\")"
      ],
      "execution_count": 23,
      "outputs": [
        {
          "output_type": "stream",
          "text": [
            "Ainda bem que te encontrei,\n",
            "\n",
            "agora sou mais feliz\n",
            "\n",
            "igual não tem, me trata bem\n",
            "\n",
            "do jeito que eu sempre quis\n",
            "\n",
            "Lembro, te olhei, me apaixonei, esqueci o que eu vivi\n",
            "\n",
            "Me dediquei, tanto lutei pra te ter perto de mim\n",
            "\n",
            "Ainda bem, ainda bem.\n"
          ],
          "name": "stdout"
        }
      ]
    },
    {
      "cell_type": "code",
      "metadata": {
        "colab": {
          "base_uri": "https://localhost:8080/"
        },
        "id": "6y71Z9LTTqXB",
        "outputId": "56ce2718-1af6-4d44-d125-192041c3dbcb"
      },
      "source": [
        "print(\"ALUNO (A)  NOTA\")\n",
        "print()\n",
        "print(\"=========  ====\")\n",
        "print()\n",
        "print(\"MAICON      9.0\")\n",
        "print()\n",
        "print(\"YAGO        DEZ\")\n",
        "print()\n",
        "print(\"ROSIMEIRE   8.5\")\n",
        "print()\n",
        "print(\"LUCAS       7.0\")"
      ],
      "execution_count": 28,
      "outputs": [
        {
          "output_type": "stream",
          "text": [
            "ALUNO (A)  NOTA\n",
            "\n",
            "=========  ====\n",
            "\n",
            "MAICON      9.0\n",
            "\n",
            "YAGO        DEZ\n",
            "\n",
            "ROSIMEIRE   8.5\n",
            "\n",
            "LUCAS       7.0\n"
          ],
          "name": "stdout"
        }
      ]
    },
    {
      "cell_type": "code",
      "metadata": {
        "colab": {
          "base_uri": "https://localhost:8080/"
        },
        "id": "dn67oVGxcmfn",
        "outputId": "a0be0270-ad7c-4ac6-8ba1-27b044b05178"
      },
      "source": [
        "print(\"Cadastro de clientes\")\n",
        "print(\"0 - Fim\")\n",
        "print(\"1 - Inclui\")\n",
        "print(\"2 - Altera\")\n",
        "print(\"3 - Exclui\")\n",
        "print(\"4 - Consulta\")\n",
        "opcão = input(\"Digite uma opção:\")\n",
        "print(\"Você escolheu a opção:\", opcao)"
      ],
      "execution_count": 5,
      "outputs": [
        {
          "output_type": "stream",
          "text": [
            "Cadastro de clientes\n",
            "0 - Fim\n",
            "1 - Inclui\n",
            "2 - Altera\n",
            "3 - Exclui\n",
            "4 - Consulta\n",
            "Digite uma opção:2\n",
            "Você escolheu a opção: 2\n"
          ],
          "name": "stdout"
        }
      ]
    },
    {
      "cell_type": "code",
      "metadata": {
        "colab": {
          "base_uri": "https://localhost:8080/"
        },
        "id": "CIs2ByqZvK3i",
        "outputId": "0a18413d-392b-4db9-c4e7-e897c47cfb48"
      },
      "source": [
        "import math\n",
        "\n",
        "print(\"CALCULADORA DE DANO\")\n",
        "print()\n",
        "vida_do_monstro = int(input(\"Digite o valor da vida do monstro entre 10 e 50:\"))\n",
        "print(vida_do_monstro)\n",
        "print()\n",
        "valor_do_ataque = int(input(\"Digite o valor de ataque entre 5 e 10:\"))\n",
        "print(valor_do_ataque)\n",
        "print()\n",
        "turnos = math.ceil(vida_do_monstro / valor_do_ataque)\n",
        "print(f\"O jogador irá derrotar o monstro em: {turnos} turnos\")\n",
        "\n"
      ],
      "execution_count": 3,
      "outputs": [
        {
          "output_type": "stream",
          "text": [
            "CALCULADORA DE DANO\n",
            "\n",
            "Digite o valor da vida do monstro entre 10 e 50:47\n",
            "47\n",
            "\n",
            "Digite o valor de ataque entre 5 e 10:6\n",
            "6\n",
            "\n",
            "O jogador irá derrotar o monstro em: 8 turnos\n"
          ],
          "name": "stdout"
        }
      ]
    },
    {
      "cell_type": "code",
      "metadata": {
        "id": "6Hfh1SMy2qny"
      },
      "source": [
        ""
      ],
      "execution_count": null,
      "outputs": []
    }
  ]
}