{
  "nbformat": 4,
  "nbformat_minor": 0,
  "metadata": {
    "colab": {
      "name": "Projetoaula 1",
      "provenance": [],
      "authorship_tag": "ABX9TyNunTgB7DM9ugR7pIe1VHbr",
      "include_colab_link": true
    },
    "kernelspec": {
      "name": "python3",
      "display_name": "Python 3"
    },
    "language_info": {
      "name": "python"
    },
    "accelerator": "GPU"
  },
  "cells": [
    {
      "cell_type": "markdown",
      "metadata": {
        "id": "view-in-github",
        "colab_type": "text"
      },
      "source": [
        "<a href=\"https://colab.research.google.com/github/maiconfreitasp/bluelogica/blob/main/Projetoaula_1.ipynb\" target=\"_parent\"><img src=\"https://colab.research.google.com/assets/colab-badge.svg\" alt=\"Open In Colab\"/></a>"
      ]
    },
    {
      "cell_type": "markdown",
      "metadata": {
        "id": "IX4oATWnEPAY"
      },
      "source": [
        "# Comando Print"
      ]
    },
    {
      "cell_type": "code",
      "metadata": {
        "colab": {
          "base_uri": "https://localhost:8080/"
        },
        "id": "9F2q3Ey2FCLh",
        "outputId": "cba65043-3981-4ee9-e124-942eb156aabf"
      },
      "source": [
        "print (\"Olá Mundo!!!\")"
      ],
      "execution_count": 1,
      "outputs": [
        {
          "output_type": "stream",
          "text": [
            "Olá Mundo!!!\n"
          ],
          "name": "stdout"
        }
      ]
    },
    {
      "cell_type": "code",
      "metadata": {
        "colab": {
          "base_uri": "https://localhost:8080/"
        },
        "id": "WJp4jPswHvVm",
        "outputId": "363e59fd-644f-4ea3-d276-f4faf3b78ede"
      },
      "source": [
        "print (57+98)"
      ],
      "execution_count": 1,
      "outputs": [
        {
          "output_type": "stream",
          "text": [
            "155\n"
          ],
          "name": "stdout"
        }
      ]
    },
    {
      "cell_type": "markdown",
      "metadata": {
        "id": "LnlmWpcGN2fQ"
      },
      "source": [
        "# Operadores aritiméticos"
      ]
    },
    {
      "cell_type": "markdown",
      "metadata": {
        "id": "93Kwo18Ygpan"
      },
      "source": [
        "(+) Soma\n",
        "(-) Subtração\n",
        "(/) Divisão\n",
        "(*) Multiplicação\n",
        "(%) Módulo\n",
        "(//) Parte inteira da divisão\n",
        "(**) Exponênciação"
      ]
    },
    {
      "cell_type": "code",
      "metadata": {
        "colab": {
          "base_uri": "https://localhost:8080/"
        },
        "id": "y06Lk6EfOEsJ",
        "outputId": "cda61311-3e78-4ed4-be9a-aca4c6ec1fef"
      },
      "source": [
        "print (17+5)\n",
        "print (17-5)\n",
        "print (17/5)\n",
        "print (17*5)\n",
        "print (17%5)\n",
        "print (17//5)\n",
        "print (17**5)\n"
      ],
      "execution_count": 9,
      "outputs": [
        {
          "output_type": "stream",
          "text": [
            "22\n",
            "12\n",
            "3.4\n",
            "85\n",
            "2\n",
            "3\n",
            "1419857\n"
          ],
          "name": "stdout"
        }
      ]
    },
    {
      "cell_type": "code",
      "metadata": {
        "id": "_5Jx3pLki2F8"
      },
      "source": [
        ""
      ],
      "execution_count": null,
      "outputs": []
    },
    {
      "cell_type": "markdown",
      "metadata": {
        "id": "ex-sdPD6js_0"
      },
      "source": [
        "# Operadores relacionais"
      ]
    },
    {
      "cell_type": "markdown",
      "metadata": {
        "id": "JII6lWrCj7MU"
      },
      "source": [
        "Maior (>) Menor (<) Maior ou Igual (>=) Menor ou Igual (<=) Igual (=) Diferente (!=)"
      ]
    },
    {
      "cell_type": "code",
      "metadata": {
        "colab": {
          "base_uri": "https://localhost:8080/"
        },
        "id": "A_0yFYKHk82U",
        "outputId": "69565b67-b4f5-4ba7-eeec-619e1bd5210d"
      },
      "source": [
        "print(5 > 3)\n",
        "print(3 > 5)"
      ],
      "execution_count": 10,
      "outputs": [
        {
          "output_type": "stream",
          "text": [
            "True\n",
            "False\n"
          ],
          "name": "stdout"
        }
      ]
    },
    {
      "cell_type": "markdown",
      "metadata": {
        "id": "V6-RUGINlRp8"
      },
      "source": [
        "# Operadores Lógicos"
      ]
    },
    {
      "cell_type": "markdown",
      "metadata": {
        "id": "_Z66sMd8lY4d"
      },
      "source": [
        "and - or - not"
      ]
    }
  ]
}